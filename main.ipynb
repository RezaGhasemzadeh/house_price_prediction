{
 "cells": [
  {
   "cell_type": "code",
   "execution_count": 22,
   "id": "5a33a8fa",
   "metadata": {},
   "outputs": [],
   "source": [
    "import pandas as pd\n",
    "import numpy as np\n",
    "from sklearn.model_selection import train_test_split\n",
    "from sklearn.linear_model import LinearRegression, SGDRegressor\n",
    "from sklearn.metrics import mean_absolute_error, mean_squared_error, mean_absolute_percentage_error\n",
    "from sklearn.preprocessing import StandardScaler"
   ]
  },
  {
   "cell_type": "code",
   "execution_count": 24,
   "id": "e165b798",
   "metadata": {},
   "outputs": [
    {
     "name": "stdout",
     "output_type": "stream",
     "text": [
      "Linear Regression:\n",
      "\n",
      " \n",
      "Coefs: [112183.09114596  -2702.5164801 ]\n",
      "Intercept: 360651.24324324325\n",
      "Measuring the accuracy of the model with Various Loss Functions:\n",
      "\n",
      "MSE: 2916446447.935827\n",
      "MAE: 48384.628319869385\n",
      "RMSE: 54004.13361897242\n",
      "MAPE: 0.1904047016737532\n",
      "Gradient Descent\n",
      "Coefs: [111271.67025156  -1884.39794984]\n",
      "Intercept: [360667.57237208]\n",
      "Number of epubs: 165\n",
      "Measuring the accuracy of the model with Various Loss Functions:\n",
      "\n",
      "MSE: 2948159939.3956823\n",
      "MAE: 48633.54811018775\n",
      "RMSE: 54296.96068285666\n",
      "MAPE: 0.19132353746344613\n"
     ]
    }
   ],
   "source": [
    "def preprocessing():\n",
    "    dataset = pd.read_csv(\"house_price.csv\")\n",
    "    data = dataset.iloc[:, :2]\n",
    "    label = dataset.price\n",
    "    sc = StandardScaler()\n",
    "    train_features, test_features, train_labels, test_labels = train_test_split(data, label, test_size=0.2, random_state=10)\n",
    "    train_features = sc.fit_transform(train_features)\n",
    "    test_features = sc.transform(test_features)\n",
    "    return train_features, test_features, train_labels, test_labels\n",
    "\n",
    "# Using Multiple Linear Regression\n",
    "def train_with_LinearRegression():\n",
    "    train_features, test_features, train_labels, test_labels = preprocessing()\n",
    "    regressor = LinearRegression()\n",
    "    regressor.fit(train_features, train_labels)\n",
    "    print(f\"Coefs: {regressor.coef_}\\nIntercept: {regressor.intercept_}\")\n",
    "    predicted_labels = regressor.predict(test_features)\n",
    "    print(f\"Measuring the accuracy of the model with Various Loss Functions:\\n\")\n",
    "    print(f\"MSE: {mean_squared_error(test_labels, predicted_labels)}\")\n",
    "    print(f\"MAE: {mean_absolute_error(test_labels, predicted_labels)}\")\n",
    "    print(f\"RMSE: {np.sqrt(mean_squared_error(test_labels, predicted_labels))}\")\n",
    "    print(f\"MAPE: {mean_absolute_percentage_error(test_labels, predicted_labels)}\")\n",
    "\n",
    "    \n",
    "# Using Gradient Descent Algorithm\n",
    "def train_with_GradientDescent():\n",
    "    train_features, test_features, train_labels, test_labels = preprocessing()\n",
    "    gdregressor = SGDRegressor(max_iter=1000, eta0=0.01, random_state=10)\n",
    "    gdregressor.fit(train_features, train_labels)\n",
    "    print(f\"Coefs: {gdregressor.coef_}\\nIntercept: {gdregressor.intercept_}\")\n",
    "    print(f\"Number of epubs: {gdregressor.n_iter_}\")\n",
    "    sgd_predicted_labels = gdregressor.predict(test_features)\n",
    "    print(f\"Measuring the accuracy of the model with Various Loss Functions:\\n\")\n",
    "    print(f\"MSE: {mean_squared_error(test_labels, sgd_predicted_labels)}\")\n",
    "    print(f\"MAE: {mean_absolute_error(test_labels, sgd_predicted_labels)}\")\n",
    "    print(f\"RMSE: {np.sqrt(mean_squared_error(test_labels, sgd_predicted_labels))}\")\n",
    "    print(f\"MAPE: {mean_absolute_percentage_error(test_labels, sgd_predicted_labels)}\")\n",
    "    \n",
    "    \n",
    "    \n",
    "print(\"Linear Regression:\\n\\n \")\n",
    "train_with_LinearRegression()\n",
    "print(\"Gradient Descent\")\n",
    "train_with_GradientDescent()"
   ]
  },
  {
   "cell_type": "code",
   "execution_count": null,
   "id": "5a805662",
   "metadata": {},
   "outputs": [],
   "source": []
  }
 ],
 "metadata": {
  "kernelspec": {
   "display_name": "Python 3 (ipykernel)",
   "language": "python",
   "name": "python3"
  },
  "language_info": {
   "codemirror_mode": {
    "name": "ipython",
    "version": 3
   },
   "file_extension": ".py",
   "mimetype": "text/x-python",
   "name": "python",
   "nbconvert_exporter": "python",
   "pygments_lexer": "ipython3",
   "version": "3.10.9"
  }
 },
 "nbformat": 4,
 "nbformat_minor": 5
}
