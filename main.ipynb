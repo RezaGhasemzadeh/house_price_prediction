{
 "cells": [
  {
   "cell_type": "code",
   "execution_count": 1,
   "id": "8338f950",
   "metadata": {},
   "outputs": [],
   "source": [
    "import pandas as pd\n",
    "import numpy as np\n",
    "from sklearn.model_selection import train_test_split\n",
    "from sklearn.linear_model import LinearRegression, SGDRegressor\n",
    "from sklearn.metrics import mean_absolute_error, mean_squared_error\n",
    "from sklearn.preprocessing import StandardScaler"
   ]
  },
  {
   "cell_type": "code",
   "execution_count": 17,
   "id": "3fa162fc",
   "metadata": {},
   "outputs": [
    {
     "name": "stdout",
     "output_type": "stream",
     "text": [
      "Linear Regression: \n"
     ]
    },
    {
     "ename": "UnboundLocalError",
     "evalue": "local variable 'train_features' referenced before assignment",
     "output_type": "error",
     "traceback": [
      "\u001b[1;31m---------------------------------------------------------------------------\u001b[0m",
      "\u001b[1;31mUnboundLocalError\u001b[0m                         Traceback (most recent call last)",
      "Cell \u001b[1;32mIn[17], line 40\u001b[0m\n\u001b[0;32m     35\u001b[0m     \u001b[38;5;28mprint\u001b[39m(\u001b[38;5;124mf\u001b[39m\u001b[38;5;124m\"\u001b[39m\u001b[38;5;124mRMSE: \u001b[39m\u001b[38;5;132;01m{\u001b[39;00mnp\u001b[38;5;241m.\u001b[39msqrt(mean_squared_error(test_labels, sgd_predicted_labels))\u001b[38;5;132;01m}\u001b[39;00m\u001b[38;5;124m\"\u001b[39m)\n\u001b[0;32m     39\u001b[0m \u001b[38;5;28mprint\u001b[39m(\u001b[38;5;124m\"\u001b[39m\u001b[38;5;124mLinear Regression: \u001b[39m\u001b[38;5;124m\"\u001b[39m)\n\u001b[1;32m---> 40\u001b[0m \u001b[43mtrain_with_LinearRegression\u001b[49m\u001b[43m(\u001b[49m\u001b[43m)\u001b[49m\n\u001b[0;32m     41\u001b[0m \u001b[38;5;28mprint\u001b[39m(\u001b[38;5;124m\"\u001b[39m\u001b[38;5;124mGradient Descent\u001b[39m\u001b[38;5;124m\"\u001b[39m)\n\u001b[0;32m     42\u001b[0m train_with_GradientDescent()\n",
      "Cell \u001b[1;32mIn[17], line 13\u001b[0m, in \u001b[0;36mtrain_with_LinearRegression\u001b[1;34m()\u001b[0m\n\u001b[0;32m     12\u001b[0m \u001b[38;5;28;01mdef\u001b[39;00m \u001b[38;5;21mtrain_with_LinearRegression\u001b[39m():\n\u001b[1;32m---> 13\u001b[0m     train_features, test_features, train_labels, test_labels \u001b[38;5;241m=\u001b[39m \u001b[43mpreprocessing\u001b[49m\u001b[43m(\u001b[49m\u001b[43m)\u001b[49m\n\u001b[0;32m     14\u001b[0m     regressor \u001b[38;5;241m=\u001b[39m LinearRegression()\n\u001b[0;32m     15\u001b[0m     regressor\u001b[38;5;241m.\u001b[39mfit(train_features, train_labels)\n",
      "Cell \u001b[1;32mIn[17], line 6\u001b[0m, in \u001b[0;36mpreprocessing\u001b[1;34m()\u001b[0m\n\u001b[0;32m      4\u001b[0m label \u001b[38;5;241m=\u001b[39m dataset\u001b[38;5;241m.\u001b[39mprice\n\u001b[0;32m      5\u001b[0m sc \u001b[38;5;241m=\u001b[39m StandardScaler()\n\u001b[1;32m----> 6\u001b[0m train_features \u001b[38;5;241m=\u001b[39m sc\u001b[38;5;241m.\u001b[39mfit_transform(\u001b[43mtrain_features\u001b[49m)\n\u001b[0;32m      7\u001b[0m test_features \u001b[38;5;241m=\u001b[39m sc\u001b[38;5;241m.\u001b[39mtransform(test_features)\n\u001b[0;32m      8\u001b[0m train_features, test_features, train_labels, test_labels \u001b[38;5;241m=\u001b[39m train_test_split(data, label, test_size\u001b[38;5;241m=\u001b[39m\u001b[38;5;241m0.2\u001b[39m, random_state\u001b[38;5;241m=\u001b[39m\u001b[38;5;241m10\u001b[39m)\n",
      "\u001b[1;31mUnboundLocalError\u001b[0m: local variable 'train_features' referenced before assignment"
     ]
    }
   ],
   "source": [
    "def preprocessing():\n",
    "    dataset = pd.read_csv(\"house_price.csv\")\n",
    "    data = dataset.iloc[:, :2]\n",
    "    label = dataset.price\n",
    "    sc = StandardScaler()\n",
    "    train_features, test_features, train_labels, test_labels = train_test_split(data, label, test_size=0.2, random_state=10)\n",
    "    train_features = sc.fit_transform(train_features)\n",
    "    test_features = sc.transform(test_features)\n",
    "    return train_features, test_features, train_labels, test_labels\n",
    "\n",
    "# Using Multiple Linear Regression\n",
    "def train_with_LinearRegression():\n",
    "    train_features, test_features, train_labels, test_labels = preprocessing()\n",
    "    regressor = LinearRegression()\n",
    "    regressor.fit(train_features, train_labels)\n",
    "    print(f\"Coefs: {regressor.coef_}\\nIntercept: {regressor.intercept_}\")\n",
    "    predicted_labels = regressor.predict(test_features)\n",
    "    print(f\"Measuring the accuracy of the model with Various Loss Functions:\\n\")\n",
    "    print(f\"MSE: {mean_squared_error(test_labels, predicted_labels)}\")\n",
    "    print(f\"MAE: {mean_absolute_error(test_labels, predicted_labels)}\")\n",
    "    print(f\"RMSE: {np.sqrt(mean_squared_error(test_labels, predicted_labels))}\")\n",
    "\n",
    "    \n",
    "# Using Gradient Descent Algorithm\n",
    "def train_with_GradientDescent():\n",
    "    train_features, test_features, train_labels, test_labels = preprocessing()\n",
    "    gdregressor = SGDRegressor(max_iter=1000, eta0=0.01, random_state=10)\n",
    "    gdregressor.fit(train_features, train_labels)\n",
    "    print(f\"Coefs: {gdregressor.coef_}\\nIntercept: {gdregressor.intercept_}\")\n",
    "    print(f\"Number of epubs: {gdregressor.n_iter_}\")\n",
    "    sgd_predicted_labels = gdregressor.predict(test_features)\n",
    "    print(f\"Measuring the accuracy of the model with Various Loss Functions:\\n\")\n",
    "    print(f\"MSE: {mean_squared_error(test_labels, sgd_predicted_labels)}\")\n",
    "    print(f\"MAE: {mean_absolute_error(test_labels, sgd_predicted_labels)}\")\n",
    "    print(f\"RMSE: {np.sqrt(mean_squared_error(test_labels, sgd_predicted_labels))}\")\n",
    "    \n",
    "    \n",
    "    \n",
    "print(\"Linear Regression: \")\n",
    "train_with_LinearRegression()\n",
    "print(\"Gradient Descent\")\n",
    "train_with_GradientDescent()"
   ]
  },
  {
   "cell_type": "code",
   "execution_count": null,
   "id": "e6124d76",
   "metadata": {},
   "outputs": [],
   "source": []
  }
 ],
 "metadata": {
  "kernelspec": {
   "display_name": "Python 3 (ipykernel)",
   "language": "python",
   "name": "python3"
  },
  "language_info": {
   "codemirror_mode": {
    "name": "ipython",
    "version": 3
   },
   "file_extension": ".py",
   "mimetype": "text/x-python",
   "name": "python",
   "nbconvert_exporter": "python",
   "pygments_lexer": "ipython3",
   "version": "3.10.9"
  }
 },
 "nbformat": 4,
 "nbformat_minor": 5
}
