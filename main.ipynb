{
 "cells": [
  {
   "cell_type": "code",
   "execution_count": 1,
   "id": "9426d08a",
   "metadata": {},
   "outputs": [],
   "source": [
    "import pandas as pd\n",
    "import numpy as np\n",
    "from sklearn.model_selection import train_test_split\n",
    "from sklearn.linear_model import LinearRegression, SGDRegressor\n",
    "from sklearn.metrics import mean_absolute_error, mean_squared_error\n",
    "from sklearn.preprocessing import StandardScaler"
   ]
  },
  {
   "cell_type": "code",
   "execution_count": 6,
   "id": "40053a4d",
   "metadata": {},
   "outputs": [
    {
     "name": "stdout",
     "output_type": "stream",
     "text": [
      "Coefs: [  133.68915731 -3603.50154391]\n",
      "Intercept: 92682.23751152109\n",
      "Measuring the accuracy of the model with Various Loss Functions:\n",
      "\n",
      "MSE: 2916446447.93583\n",
      "MAE: 48384.62831986941\n",
      "RMSE: 54004.133618972446\n"
     ]
    }
   ],
   "source": [
    "def preprocessing():\n",
    "    dataset = pd.read_csv(\"house_price.csv\")\n",
    "    data = dataset.iloc[:, :2]\n",
    "    label = dataset.price\n",
    "    train_features, test_features, train_labels, test_labels = train_test_split(data, label, test_size=0.2, random_state=10)\n",
    "    sc = StandardS\n",
    "    return train_features, test_features, train_labels, test_labels\n",
    "\n",
    "# Using Multiple Linear Regression\n",
    "def train_with_LinearRegression():\n",
    "    train_features, test_features, train_labels, test_labels = preprocessing()\n",
    "    regressor = LinearRegression()\n",
    "    regressor.fit(train_features, train_labels)\n",
    "    print(f\"Coefs: {regressor.coef_}\\nIntercept: {regressor.intercept_}\")\n",
    "    predicted_labels = regressor.predict(test_features)\n",
    "    print(f\"Measuring the accuracy of the model with Various Loss Functions:\\n\")\n",
    "    print(f\"MSE: {mean_squared_error(test_labels, predicted_labels)}\")\n",
    "    print(f\"MAE: {mean_absolute_error(test_labels, predicted_labels)}\")\n",
    "    print(f\"RMSE: {np.sqrt(mean_squared_error(test_labels, predicted_labels))}\")\n",
    "\n",
    "    \n",
    "train_with_LinearRegression()"
   ]
  },
  {
   "cell_type": "code",
   "execution_count": null,
   "id": "a76bcb4a",
   "metadata": {},
   "outputs": [],
   "source": []
  }
 ],
 "metadata": {
  "kernelspec": {
   "display_name": "Python 3 (ipykernel)",
   "language": "python",
   "name": "python3"
  },
  "language_info": {
   "codemirror_mode": {
    "name": "ipython",
    "version": 3
   },
   "file_extension": ".py",
   "mimetype": "text/x-python",
   "name": "python",
   "nbconvert_exporter": "python",
   "pygments_lexer": "ipython3",
   "version": "3.10.9"
  }
 },
 "nbformat": 4,
 "nbformat_minor": 5
}
